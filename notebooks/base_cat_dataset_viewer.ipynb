{
 "cells": [
  {
   "cell_type": "code",
   "execution_count": 45,
   "metadata": {
    "collapsed": true,
    "ExecuteTime": {
     "end_time": "2024-10-11T15:15:59.771098800Z",
     "start_time": "2024-10-11T15:15:59.756540Z"
    }
   },
   "outputs": [],
   "source": [
    "import pandas as pd\n",
    "from IPython.display import display, HTML"
   ]
  },
  {
   "cell_type": "markdown",
   "source": [
    "# **Read the data from the file**"
   ],
   "metadata": {
    "collapsed": false
   }
  },
  {
   "cell_type": "code",
   "execution_count": 46,
   "outputs": [],
   "source": [
    "file_path = \"../data/datasets/base_cat_dataset.xlsx\"\n",
    "data = pd.read_excel(file_path)"
   ],
   "metadata": {
    "collapsed": false,
    "ExecuteTime": {
     "end_time": "2024-10-11T15:16:00.388910800Z",
     "start_time": "2024-10-11T15:15:59.771098800Z"
    }
   }
  },
  {
   "cell_type": "markdown",
   "source": [
    "# **Print the first x instances of the dataset**"
   ],
   "metadata": {
    "collapsed": false
   }
  },
  {
   "cell_type": "code",
   "execution_count": 47,
   "outputs": [
    {
     "data": {
      "text/plain": "<IPython.core.display.HTML object>",
      "text/html": "<table class=\"dataframe\">\n  <thead>\n    <tr style=\"text-align: left;\">\n      <th></th>\n      <th>Row.names</th>\n      <th>Horodateur</th>\n      <th>Sexe</th>\n      <th>Age</th>\n      <th>Race</th>\n      <th>Nombre</th>\n      <th>Logement</th>\n      <th>Zone</th>\n      <th>Ext</th>\n      <th>Obs</th>\n      <th>Timide</th>\n      <th>Calme</th>\n      <th>Effrayé</th>\n      <th>Intelligent</th>\n      <th>Vigilant</th>\n      <th>Perséverant</th>\n      <th>Affectueux</th>\n      <th>Amical</th>\n      <th>Solitaire</th>\n      <th>Brutal</th>\n      <th>Dominant</th>\n      <th>Agressif</th>\n      <th>Impulsif</th>\n      <th>Prévisible</th>\n      <th>Distrait</th>\n      <th>Abondance</th>\n      <th>PredOiseau</th>\n      <th>PredMamm</th>\n      <th>Plus</th>\n    </tr>\n  </thead>\n  <tbody>\n    <tr>\n      <th>0</th>\n      <td>1</td>\n      <td>2021-02-09 16:36:39.042</td>\n      <td>F</td>\n      <td>Moinsde1</td>\n      <td>SBI</td>\n      <td>3</td>\n      <td>ASB</td>\n      <td>U</td>\n      <td>0</td>\n      <td>0</td>\n      <td>1</td>\n      <td>1</td>\n      <td>1</td>\n      <td>1</td>\n      <td>1</td>\n      <td>1</td>\n      <td>1</td>\n      <td>1</td>\n      <td>1</td>\n      <td>1</td>\n      <td>1</td>\n      <td>1</td>\n      <td>1</td>\n      <td>1</td>\n      <td>1</td>\n      <td>NSP</td>\n      <td>4</td>\n      <td>4</td>\n      <td>NaN</td>\n    </tr>\n    <tr>\n      <th>1</th>\n      <td>10</td>\n      <td>2021-02-12 18:25:58.373</td>\n      <td>F</td>\n      <td>Moinsde1</td>\n      <td>SBI</td>\n      <td>1</td>\n      <td>AAB</td>\n      <td>U</td>\n      <td>0</td>\n      <td>2</td>\n      <td>1</td>\n      <td>1</td>\n      <td>3</td>\n      <td>4</td>\n      <td>4</td>\n      <td>5</td>\n      <td>5</td>\n      <td>5</td>\n      <td>1</td>\n      <td>2</td>\n      <td>2</td>\n      <td>3</td>\n      <td>4</td>\n      <td>4</td>\n      <td>3</td>\n      <td>NSP</td>\n      <td>0</td>\n      <td>0</td>\n      <td>NaN</td>\n    </tr>\n    <tr>\n      <th>2</th>\n      <td>100</td>\n      <td>2021-03-06 22:04:33.192</td>\n      <td>F</td>\n      <td>2a10</td>\n      <td>EUR</td>\n      <td>4</td>\n      <td>ML</td>\n      <td>U</td>\n      <td>0</td>\n      <td>2</td>\n      <td>4</td>\n      <td>4</td>\n      <td>3</td>\n      <td>5</td>\n      <td>5</td>\n      <td>4</td>\n      <td>5</td>\n      <td>4</td>\n      <td>2</td>\n      <td>1</td>\n      <td>1</td>\n      <td>1</td>\n      <td>2</td>\n      <td>4</td>\n      <td>2</td>\n      <td>NSP</td>\n      <td>0</td>\n      <td>0</td>\n      <td>Elle ne chasse pas car elle ne sort pas, si elle sortait, je sais qu'elle chasserait car elle a vécu seule dehors pendant au moins un an</td>\n    </tr>\n    <tr>\n      <th>3</th>\n      <td>1000</td>\n      <td>2021-02-18 16:10:11.117</td>\n      <td>F</td>\n      <td>Moinsde1</td>\n      <td>EUR</td>\n      <td>1</td>\n      <td>ML</td>\n      <td>R</td>\n      <td>2</td>\n      <td>2</td>\n      <td>3</td>\n      <td>2</td>\n      <td>2</td>\n      <td>4</td>\n      <td>3</td>\n      <td>5</td>\n      <td>4</td>\n      <td>4</td>\n      <td>3</td>\n      <td>4</td>\n      <td>3</td>\n      <td>3</td>\n      <td>3</td>\n      <td>4</td>\n      <td>4</td>\n      <td>3</td>\n      <td>0</td>\n      <td>0</td>\n      <td>Elle vient quand je l'appelle</td>\n    </tr>\n    <tr>\n      <th>4</th>\n      <td>1001</td>\n      <td>2021-02-18 18:00:50.851</td>\n      <td>F</td>\n      <td>1a2</td>\n      <td>SBI</td>\n      <td>2</td>\n      <td>MI</td>\n      <td>R</td>\n      <td>1</td>\n      <td>2</td>\n      <td>1</td>\n      <td>4</td>\n      <td>1</td>\n      <td>5</td>\n      <td>3</td>\n      <td>4</td>\n      <td>4</td>\n      <td>2</td>\n      <td>1</td>\n      <td>2</td>\n      <td>4</td>\n      <td>1</td>\n      <td>4</td>\n      <td>3</td>\n      <td>3</td>\n      <td>3</td>\n      <td>0</td>\n      <td>0</td>\n      <td>NaN</td>\n    </tr>\n    <tr>\n      <th>5</th>\n      <td>1002</td>\n      <td>2021-02-18 18:55:18.755</td>\n      <td>F</td>\n      <td>Plusde10</td>\n      <td>SBI</td>\n      <td>2</td>\n      <td>MI</td>\n      <td>R</td>\n      <td>1</td>\n      <td>3</td>\n      <td>4</td>\n      <td>4</td>\n      <td>4</td>\n      <td>4</td>\n      <td>4</td>\n      <td>4</td>\n      <td>4</td>\n      <td>4</td>\n      <td>1</td>\n      <td>1</td>\n      <td>1</td>\n      <td>1</td>\n      <td>1</td>\n      <td>4</td>\n      <td>1</td>\n      <td>3</td>\n      <td>0</td>\n      <td>0</td>\n      <td>NaN</td>\n    </tr>\n    <tr>\n      <th>6</th>\n      <td>1003</td>\n      <td>2021-02-18 18:57:15.452</td>\n      <td>M</td>\n      <td>Moinsde1</td>\n      <td>NR</td>\n      <td>2</td>\n      <td>MI</td>\n      <td>R</td>\n      <td>3</td>\n      <td>2</td>\n      <td>2</td>\n      <td>2</td>\n      <td>1</td>\n      <td>4</td>\n      <td>4</td>\n      <td>4</td>\n      <td>4</td>\n      <td>4</td>\n      <td>3</td>\n      <td>2</td>\n      <td>4</td>\n      <td>2</td>\n      <td>4</td>\n      <td>4</td>\n      <td>4</td>\n      <td>3</td>\n      <td>0</td>\n      <td>4</td>\n      <td>NaN</td>\n    </tr>\n    <tr>\n      <th>7</th>\n      <td>1004</td>\n      <td>2021-02-18 20:10:02.664</td>\n      <td>F</td>\n      <td>2a10</td>\n      <td>MCO</td>\n      <td>Plusde5</td>\n      <td>MI</td>\n      <td>R</td>\n      <td>0</td>\n      <td>3</td>\n      <td>4</td>\n      <td>4</td>\n      <td>2</td>\n      <td>5</td>\n      <td>2</td>\n      <td>3</td>\n      <td>5</td>\n      <td>2</td>\n      <td>2</td>\n      <td>2</td>\n      <td>1</td>\n      <td>2</td>\n      <td>1</td>\n      <td>1</td>\n      <td>1</td>\n      <td>3</td>\n      <td>0</td>\n      <td>0</td>\n      <td>Mes chats ont accès à un enclos extérieur</td>\n    </tr>\n    <tr>\n      <th>8</th>\n      <td>1005</td>\n      <td>2021-02-18 20:22:16.840</td>\n      <td>M</td>\n      <td>2a10</td>\n      <td>MCO</td>\n      <td>1</td>\n      <td>MI</td>\n      <td>R</td>\n      <td>0</td>\n      <td>2</td>\n      <td>2</td>\n      <td>4</td>\n      <td>1</td>\n      <td>4</td>\n      <td>4</td>\n      <td>4</td>\n      <td>4</td>\n      <td>4</td>\n      <td>2</td>\n      <td>1</td>\n      <td>1</td>\n      <td>1</td>\n      <td>1</td>\n      <td>3</td>\n      <td>1</td>\n      <td>3</td>\n      <td>0</td>\n      <td>0</td>\n      <td>Il n’a accès à l’extérieur qu’en laisse aux beaux jours</td>\n    </tr>\n    <tr>\n      <th>9</th>\n      <td>1006</td>\n      <td>2021-02-18 20:39:20.803</td>\n      <td>M</td>\n      <td>Moinsde1</td>\n      <td>BEN</td>\n      <td>2</td>\n      <td>MI</td>\n      <td>R</td>\n      <td>0</td>\n      <td>3</td>\n      <td>3</td>\n      <td>5</td>\n      <td>1</td>\n      <td>5</td>\n      <td>5</td>\n      <td>5</td>\n      <td>5</td>\n      <td>4</td>\n      <td>3</td>\n      <td>1</td>\n      <td>1</td>\n      <td>1</td>\n      <td>1</td>\n      <td>3</td>\n      <td>1</td>\n      <td>3</td>\n      <td>0</td>\n      <td>0</td>\n      <td>NaN</td>\n    </tr>\n  </tbody>\n</table>"
     },
     "metadata": {},
     "output_type": "display_data"
    }
   ],
   "source": [
    "number_of_rows = 10\n",
    "display(\n",
    "    HTML(\n",
    "        data.head(number_of_rows).to_html(\n",
    "            max_cols=None, escape=False, border=0, justify=\"left\"\n",
    "        )\n",
    "    )\n",
    ")\n"
   ],
   "metadata": {
    "collapsed": false,
    "ExecuteTime": {
     "end_time": "2024-10-11T15:16:00.399911200Z",
     "start_time": "2024-10-11T15:16:00.390909800Z"
    }
   }
  }
 ],
 "metadata": {
  "kernelspec": {
   "display_name": "Python 3",
   "language": "python",
   "name": "python3"
  },
  "language_info": {
   "codemirror_mode": {
    "name": "ipython",
    "version": 2
   },
   "file_extension": ".py",
   "mimetype": "text/x-python",
   "name": "python",
   "nbconvert_exporter": "python",
   "pygments_lexer": "ipython2",
   "version": "2.7.6"
  }
 },
 "nbformat": 4,
 "nbformat_minor": 0
}
